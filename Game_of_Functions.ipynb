{
 "cells": [
  {
   "cell_type": "code",
   "execution_count": 2,
   "source": [
    "user_input_list = [ ]\r\n",
    "\r\n",
    "length_of_list = int(input(\"Enter the no of elements: \"))\r\n",
    "\r\n",
    "for i in range(0,length_of_list):\r\n",
    "    user_input_element=int(input(\"enter the no\"))\r\n",
    "    user_input_list.append(user_input_element)\r\n",
    "\r\n",
    "def game_of_function(user_input):\r\n",
    "    sum=0\r\n",
    "    for i in user_input:\r\n",
    "        sum=sum+i\r\n",
    "    return sum\r\n",
    "\r\n",
    "result = game_of_function(user_input_list)\r\n",
    "print(result)\r\n"
   ],
   "outputs": [
    {
     "output_type": "stream",
     "name": "stdout",
     "text": [
      "20\n"
     ]
    }
   ],
   "metadata": {}
  },
  {
   "cell_type": "code",
   "execution_count": null,
   "source": [],
   "outputs": [],
   "metadata": {}
  }
 ],
 "metadata": {
  "orig_nbformat": 4,
  "language_info": {
   "name": "python",
   "version": "3.8.8",
   "mimetype": "text/x-python",
   "codemirror_mode": {
    "name": "ipython",
    "version": 3
   },
   "pygments_lexer": "ipython3",
   "nbconvert_exporter": "python",
   "file_extension": ".py"
  },
  "kernelspec": {
   "name": "python3",
   "display_name": "Python 3.8.8 64-bit ('base': conda)"
  },
  "interpreter": {
   "hash": "cc5f70855ac006f3de45a3cc3b9e7d8d53845e50458809cb162b0174266dec97"
  }
 },
 "nbformat": 4,
 "nbformat_minor": 2
}