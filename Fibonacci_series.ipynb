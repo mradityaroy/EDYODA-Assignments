{
 "cells": [
  {
   "cell_type": "code",
   "execution_count": 1,
   "source": [
    "#write python program to print fibonacci series\r\n",
    "\r\n",
    "x=0\r\n",
    "y=1\r\n",
    "z=0\r\n",
    "print(x)\r\n",
    "for i in range(1,50):\r\n",
    "    x=y\r\n",
    "    y=z\r\n",
    "    z=x+y\r\n",
    "    if z<50:\r\n",
    "        print(z)"
   ],
   "outputs": [
    {
     "output_type": "stream",
     "name": "stdout",
     "text": [
      "0\n",
      "1\n",
      "1\n",
      "2\n",
      "3\n",
      "5\n",
      "8\n",
      "13\n",
      "21\n",
      "34\n"
     ]
    }
   ],
   "metadata": {}
  },
  {
   "cell_type": "code",
   "execution_count": null,
   "source": [],
   "outputs": [],
   "metadata": {}
  }
 ],
 "metadata": {
  "orig_nbformat": 4,
  "language_info": {
   "name": "python",
   "version": "3.8.8",
   "mimetype": "text/x-python",
   "codemirror_mode": {
    "name": "ipython",
    "version": 3
   },
   "pygments_lexer": "ipython3",
   "nbconvert_exporter": "python",
   "file_extension": ".py"
  },
  "kernelspec": {
   "name": "python3",
   "display_name": "Python 2021.5 64-bit"
  },
  "interpreter": {
   "hash": "cc5f70855ac006f3de45a3cc3b9e7d8d53845e50458809cb162b0174266dec97"
  }
 },
 "nbformat": 4,
 "nbformat_minor": 2
}