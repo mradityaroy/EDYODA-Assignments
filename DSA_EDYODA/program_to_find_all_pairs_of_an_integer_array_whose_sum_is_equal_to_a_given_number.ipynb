{
 "cells": [
  {
   "cell_type": "code",
   "execution_count": 1,
   "metadata": {},
   "outputs": [],
   "source": [
    "def getPairsCount(arr, n, sum):\n",
    "\n",
    "\tcount = 0 # Initialize result\n",
    "\n",
    "\t#-----Consider all possible pairs and check their sums-----#\n",
    "\tfor i in range(0, n):\n",
    "\t\tfor j in range(i + 1, n):\n",
    "\t\t\tif arr[i] + arr[j] == sum:\n",
    "\t\t\t\tcount += 1\n",
    "\n",
    "\treturn count\n"
   ]
  },
  {
   "cell_type": "code",
   "execution_count": 3,
   "metadata": {},
   "outputs": [
    {
     "name": "stdout",
     "output_type": "stream",
     "text": [
      "Count of pairs is 2\n"
     ]
    }
   ],
   "source": [
    "arr = [1,5,6,2,4,-1]\n",
    "n = len(arr)\n",
    "sum = 6\n",
    "print(\"Count of pairs is\",\n",
    "\tgetPairsCount(arr, n, sum))"
   ]
  },
  {
   "cell_type": "code",
   "execution_count": null,
   "metadata": {},
   "outputs": [],
   "source": []
  }
 ],
 "metadata": {
  "interpreter": {
   "hash": "1e915f0a29dc84041eaeb02b7b1a21c440e37a87b61d44d5e84a515737dc82bc"
  },
  "kernelspec": {
   "display_name": "Python 3.8.8 64-bit ('base': conda)",
   "name": "python3"
  },
  "language_info": {
   "codemirror_mode": {
    "name": "ipython",
    "version": 3
   },
   "file_extension": ".py",
   "mimetype": "text/x-python",
   "name": "python",
   "nbconvert_exporter": "python",
   "pygments_lexer": "ipython3",
   "version": "3.8.8"
  },
  "orig_nbformat": 4
 },
 "nbformat": 4,
 "nbformat_minor": 2
}
