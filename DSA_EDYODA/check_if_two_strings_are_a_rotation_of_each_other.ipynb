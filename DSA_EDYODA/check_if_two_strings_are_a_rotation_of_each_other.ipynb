{
 "cells": [
  {
   "cell_type": "code",
   "execution_count": 5,
   "metadata": {},
   "outputs": [
    {
     "name": "stdout",
     "output_type": "stream",
     "text": [
      "Strings are rotations of each other\n"
     ]
    }
   ],
   "source": [
    "def areRotations(string1, string2):\n",
    "\tsize1 = len(string1)\n",
    "\tsize2 = len(string2)\n",
    "\ttemp = ''\n",
    "\n",
    "\tif size1 != size2:\n",
    "\t\treturn 0\n",
    "\n",
    "\ttemp = string1 + string1\n",
    "\n",
    "\tif (temp.count(string2)> 0):\n",
    "\t\treturn 1\n",
    "\telse:\n",
    "\t\treturn 0\n",
    "\n",
    "string1 = \"AACD\"\n",
    "string2 = \"ACDA\"\n",
    "\n",
    "if areRotations(string1, string2):\n",
    "\tprint(\"Strings are rotations of each other\")\n",
    "else:\n",
    "\tprint(\"Strings are not rotations of each other\")\n",
    "\n"
   ]
  }
 ],
 "metadata": {
  "interpreter": {
   "hash": "1e915f0a29dc84041eaeb02b7b1a21c440e37a87b61d44d5e84a515737dc82bc"
  },
  "kernelspec": {
   "display_name": "Python 3.8.8 64-bit ('base': conda)",
   "name": "python3"
  },
  "language_info": {
   "codemirror_mode": {
    "name": "ipython",
    "version": 3
   },
   "file_extension": ".py",
   "mimetype": "text/x-python",
   "name": "python",
   "nbconvert_exporter": "python",
   "pygments_lexer": "ipython3",
   "version": "3.8.8"
  },
  "orig_nbformat": 4
 },
 "nbformat": 4,
 "nbformat_minor": 2
}
