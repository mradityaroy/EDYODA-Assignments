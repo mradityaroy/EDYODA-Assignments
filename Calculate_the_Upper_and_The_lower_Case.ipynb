{
 "cells": [
  {
   "cell_type": "code",
   "execution_count": 6,
   "source": [
    "user_input_string=input(\"Enter string: \")\r\n",
    "count_lower=0\r\n",
    "count_upper=0\r\n",
    "def count_upper_lower(user_input_string):\r\n",
    "    for i in user_input_string:\r\n",
    "        global count_lower\r\n",
    "        global count_upper\r\n",
    "        if i.islower():\r\n",
    "                count_lower+=1\r\n",
    "        elif i.isupper():\r\n",
    "                count_upper+=1\r\n",
    "        else:\r\n",
    "            pass\r\n",
    "    return count_upper,count_upper\r\n",
    "count_upper_lower(user_input_string)\r\n",
    "print(\"No. of Upper case characters: \",count_upper)         \r\n",
    "print(\"No. of Lower case Characters: \",count_lower)"
   ],
   "outputs": [
    {
     "output_type": "stream",
     "name": "stdout",
     "text": [
      "No. of Upper case characters:  6\n",
      "No. of Lower case Characters:  7\n"
     ]
    }
   ],
   "metadata": {}
  },
  {
   "cell_type": "code",
   "execution_count": null,
   "source": [],
   "outputs": [],
   "metadata": {}
  }
 ],
 "metadata": {
  "orig_nbformat": 4,
  "language_info": {
   "name": "python",
   "version": "3.8.8",
   "mimetype": "text/x-python",
   "codemirror_mode": {
    "name": "ipython",
    "version": 3
   },
   "pygments_lexer": "ipython3",
   "nbconvert_exporter": "python",
   "file_extension": ".py"
  },
  "kernelspec": {
   "name": "python3",
   "display_name": "Python 3.8.8 64-bit ('base': conda)"
  },
  "interpreter": {
   "hash": "cc5f70855ac006f3de45a3cc3b9e7d8d53845e50458809cb162b0174266dec97"
  }
 },
 "nbformat": 4,
 "nbformat_minor": 2
}