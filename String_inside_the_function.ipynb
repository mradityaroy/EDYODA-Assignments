{
 "cells": [
  {
   "cell_type": "code",
   "execution_count": 6,
   "source": [
    "user_input_string = input(\"Enter string\")\r\n",
    "\r\n",
    "def reverse_string(entered_string):\r\n",
    "    reversed_string = \" \"\r\n",
    "    for i in entered_string:\r\n",
    "        reversed_string=i+reversed_string       \r\n",
    "    return reversed_string\r\n",
    "\r\n",
    "result=reverse_string(user_input_string)\r\n",
    "print(result)\r\n"
   ],
   "outputs": [
    {
     "output_type": "stream",
     "name": "stdout",
     "text": [
      "dcba4321 \n"
     ]
    }
   ],
   "metadata": {}
  },
  {
   "cell_type": "code",
   "execution_count": null,
   "source": [],
   "outputs": [],
   "metadata": {}
  }
 ],
 "metadata": {
  "orig_nbformat": 4,
  "language_info": {
   "name": "python",
   "version": "3.8.8",
   "mimetype": "text/x-python",
   "codemirror_mode": {
    "name": "ipython",
    "version": 3
   },
   "pygments_lexer": "ipython3",
   "nbconvert_exporter": "python",
   "file_extension": ".py"
  },
  "kernelspec": {
   "name": "python3",
   "display_name": "Python 3.8.8 64-bit ('base': conda)"
  },
  "interpreter": {
   "hash": "cc5f70855ac006f3de45a3cc3b9e7d8d53845e50458809cb162b0174266dec97"
  }
 },
 "nbformat": 4,
 "nbformat_minor": 2
}