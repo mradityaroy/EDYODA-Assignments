{
 "cells": [
  {
   "cell_type": "code",
   "execution_count": null,
   "source": [
    "Count_Even = 0\r\n",
    "Count_Odd = 0\r\n",
    "for i in range(1, 10):\r\n",
    "    if i%2 == 0:\r\n",
    "        Count_Even += 1\r\n",
    "    else:\r\n",
    "        Count_Odd += 1\r\n",
    "print(\"Number of even numbers : \",Count_Even)\r\n",
    "print(\"Number of odd numbers : \",Count_Odd)"
   ],
   "outputs": [],
   "metadata": {}
  }
 ],
 "metadata": {
  "orig_nbformat": 4,
  "language_info": {
   "name": "python"
  }
 },
 "nbformat": 4,
 "nbformat_minor": 2
}