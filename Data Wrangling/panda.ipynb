{
 "cells": [
  {
   "cell_type": "markdown",
   "id": "a9caf1f7-16cc-4558-9589-19f4979ee34c",
   "metadata": {},
   "source": [
    "## Assignment - 2"
   ]
  },
  {
   "cell_type": "markdown",
   "id": "b813b943-c28a-4044-a52b-323c348274f5",
   "metadata": {},
   "source": [
    "#### Importing the necessary libraries\n"
   ]
  },
  {
   "cell_type": "code",
   "execution_count": 6,
   "id": "e77e9e9d-1e36-4ab8-b6ee-7da2c45a814b",
   "metadata": {},
   "outputs": [],
   "source": [
    "import pandas as pd\n",
    "import numpy as np"
   ]
  },
  {
   "cell_type": "markdown",
   "id": "ef51f5fe-5d9c-46a4-a41a-736ab229730e",
   "metadata": {},
   "source": [
    "#### Importing the dataset"
   ]
  },
  {
   "cell_type": "code",
   "execution_count": 7,
   "id": "e9060798-1606-44d8-abeb-1eee40d1b789",
   "metadata": {},
   "outputs": [],
   "source": [
    "url = 'https://raw.githubusercontent.com/justmarkham/DAT8/master/data/u.user'\n",
    "\n",
    "users = pd.read_csv(url, sep= \"|\")"
   ]
  },
  {
   "cell_type": "code",
   "execution_count": 3,
   "id": "6b4d1c5c-d710-4384-bfbd-86fb3f758ec6",
   "metadata": {},
   "outputs": [
    {
     "data": {
      "text/html": [
       "<div>\n",
       "<style scoped>\n",
       "    .dataframe tbody tr th:only-of-type {\n",
       "        vertical-align: middle;\n",
       "    }\n",
       "\n",
       "    .dataframe tbody tr th {\n",
       "        vertical-align: top;\n",
       "    }\n",
       "\n",
       "    .dataframe thead th {\n",
       "        text-align: right;\n",
       "    }\n",
       "</style>\n",
       "<table border=\"1\" class=\"dataframe\">\n",
       "  <thead>\n",
       "    <tr style=\"text-align: right;\">\n",
       "      <th></th>\n",
       "      <th>user_id</th>\n",
       "      <th>age</th>\n",
       "      <th>gender</th>\n",
       "      <th>occupation</th>\n",
       "      <th>zip_code</th>\n",
       "    </tr>\n",
       "  </thead>\n",
       "  <tbody>\n",
       "    <tr>\n",
       "      <th>0</th>\n",
       "      <td>1</td>\n",
       "      <td>24</td>\n",
       "      <td>M</td>\n",
       "      <td>technician</td>\n",
       "      <td>85711</td>\n",
       "    </tr>\n",
       "    <tr>\n",
       "      <th>1</th>\n",
       "      <td>2</td>\n",
       "      <td>53</td>\n",
       "      <td>F</td>\n",
       "      <td>other</td>\n",
       "      <td>94043</td>\n",
       "    </tr>\n",
       "    <tr>\n",
       "      <th>2</th>\n",
       "      <td>3</td>\n",
       "      <td>23</td>\n",
       "      <td>M</td>\n",
       "      <td>writer</td>\n",
       "      <td>32067</td>\n",
       "    </tr>\n",
       "    <tr>\n",
       "      <th>3</th>\n",
       "      <td>4</td>\n",
       "      <td>24</td>\n",
       "      <td>M</td>\n",
       "      <td>technician</td>\n",
       "      <td>43537</td>\n",
       "    </tr>\n",
       "    <tr>\n",
       "      <th>4</th>\n",
       "      <td>5</td>\n",
       "      <td>33</td>\n",
       "      <td>F</td>\n",
       "      <td>other</td>\n",
       "      <td>15213</td>\n",
       "    </tr>\n",
       "  </tbody>\n",
       "</table>\n",
       "</div>"
      ],
      "text/plain": [
       "   user_id  age gender  occupation zip_code\n",
       "0        1   24      M  technician    85711\n",
       "1        2   53      F       other    94043\n",
       "2        3   23      M      writer    32067\n",
       "3        4   24      M  technician    43537\n",
       "4        5   33      F       other    15213"
      ]
     },
     "execution_count": 3,
     "metadata": {},
     "output_type": "execute_result"
    }
   ],
   "source": [
    "users.head()"
   ]
  },
  {
   "cell_type": "markdown",
   "id": "f8a7dc9a-c91b-4a8b-852e-18030c49d157",
   "metadata": {},
   "source": [
    "#### Assigning 'user_id' as index"
   ]
  },
  {
   "cell_type": "code",
   "execution_count": 4,
   "id": "5b5c4077-094e-4608-afde-873ba7a00606",
   "metadata": {},
   "outputs": [],
   "source": [
    "users = users.set_index('user_id')"
   ]
  },
  {
   "cell_type": "code",
   "execution_count": 5,
   "id": "dbced995-6585-4536-96a0-48787ca3ccdd",
   "metadata": {},
   "outputs": [
    {
     "data": {
      "text/html": [
       "<div>\n",
       "<style scoped>\n",
       "    .dataframe tbody tr th:only-of-type {\n",
       "        vertical-align: middle;\n",
       "    }\n",
       "\n",
       "    .dataframe tbody tr th {\n",
       "        vertical-align: top;\n",
       "    }\n",
       "\n",
       "    .dataframe thead th {\n",
       "        text-align: right;\n",
       "    }\n",
       "</style>\n",
       "<table border=\"1\" class=\"dataframe\">\n",
       "  <thead>\n",
       "    <tr style=\"text-align: right;\">\n",
       "      <th></th>\n",
       "      <th>age</th>\n",
       "      <th>gender</th>\n",
       "      <th>occupation</th>\n",
       "      <th>zip_code</th>\n",
       "    </tr>\n",
       "    <tr>\n",
       "      <th>user_id</th>\n",
       "      <th></th>\n",
       "      <th></th>\n",
       "      <th></th>\n",
       "      <th></th>\n",
       "    </tr>\n",
       "  </thead>\n",
       "  <tbody>\n",
       "    <tr>\n",
       "      <th>1</th>\n",
       "      <td>24</td>\n",
       "      <td>M</td>\n",
       "      <td>technician</td>\n",
       "      <td>85711</td>\n",
       "    </tr>\n",
       "    <tr>\n",
       "      <th>2</th>\n",
       "      <td>53</td>\n",
       "      <td>F</td>\n",
       "      <td>other</td>\n",
       "      <td>94043</td>\n",
       "    </tr>\n",
       "    <tr>\n",
       "      <th>3</th>\n",
       "      <td>23</td>\n",
       "      <td>M</td>\n",
       "      <td>writer</td>\n",
       "      <td>32067</td>\n",
       "    </tr>\n",
       "    <tr>\n",
       "      <th>4</th>\n",
       "      <td>24</td>\n",
       "      <td>M</td>\n",
       "      <td>technician</td>\n",
       "      <td>43537</td>\n",
       "    </tr>\n",
       "    <tr>\n",
       "      <th>5</th>\n",
       "      <td>33</td>\n",
       "      <td>F</td>\n",
       "      <td>other</td>\n",
       "      <td>15213</td>\n",
       "    </tr>\n",
       "  </tbody>\n",
       "</table>\n",
       "</div>"
      ],
      "text/plain": [
       "         age gender  occupation zip_code\n",
       "user_id                                 \n",
       "1         24      M  technician    85711\n",
       "2         53      F       other    94043\n",
       "3         23      M      writer    32067\n",
       "4         24      M  technician    43537\n",
       "5         33      F       other    15213"
      ]
     },
     "execution_count": 5,
     "metadata": {},
     "output_type": "execute_result"
    }
   ],
   "source": [
    "users.head()"
   ]
  },
  {
   "cell_type": "markdown",
   "id": "ed0d65a2-8723-4560-8a8a-6e6120817085",
   "metadata": {},
   "source": [
    "#### First 10 and Last 10 entries"
   ]
  },
  {
   "cell_type": "code",
   "execution_count": 6,
   "id": "9fd8a292-6313-4ccc-9cd9-3720b13b54cd",
   "metadata": {},
   "outputs": [
    {
     "name": "stdout",
     "output_type": "stream",
     "text": [
      "First 10 entries"
     ]
    },
    {
     "data": {
      "text/html": [
       "<div>\n",
       "<style scoped>\n",
       "    .dataframe tbody tr th:only-of-type {\n",
       "        vertical-align: middle;\n",
       "    }\n",
       "\n",
       "    .dataframe tbody tr th {\n",
       "        vertical-align: top;\n",
       "    }\n",
       "\n",
       "    .dataframe thead th {\n",
       "        text-align: right;\n",
       "    }\n",
       "</style>\n",
       "<table border=\"1\" class=\"dataframe\">\n",
       "  <thead>\n",
       "    <tr style=\"text-align: right;\">\n",
       "      <th></th>\n",
       "      <th>age</th>\n",
       "      <th>gender</th>\n",
       "      <th>occupation</th>\n",
       "      <th>zip_code</th>\n",
       "    </tr>\n",
       "    <tr>\n",
       "      <th>user_id</th>\n",
       "      <th></th>\n",
       "      <th></th>\n",
       "      <th></th>\n",
       "      <th></th>\n",
       "    </tr>\n",
       "  </thead>\n",
       "  <tbody>\n",
       "    <tr>\n",
       "      <th>1</th>\n",
       "      <td>24</td>\n",
       "      <td>M</td>\n",
       "      <td>technician</td>\n",
       "      <td>85711</td>\n",
       "    </tr>\n",
       "    <tr>\n",
       "      <th>2</th>\n",
       "      <td>53</td>\n",
       "      <td>F</td>\n",
       "      <td>other</td>\n",
       "      <td>94043</td>\n",
       "    </tr>\n",
       "    <tr>\n",
       "      <th>3</th>\n",
       "      <td>23</td>\n",
       "      <td>M</td>\n",
       "      <td>writer</td>\n",
       "      <td>32067</td>\n",
       "    </tr>\n",
       "    <tr>\n",
       "      <th>4</th>\n",
       "      <td>24</td>\n",
       "      <td>M</td>\n",
       "      <td>technician</td>\n",
       "      <td>43537</td>\n",
       "    </tr>\n",
       "    <tr>\n",
       "      <th>5</th>\n",
       "      <td>33</td>\n",
       "      <td>F</td>\n",
       "      <td>other</td>\n",
       "      <td>15213</td>\n",
       "    </tr>\n",
       "    <tr>\n",
       "      <th>6</th>\n",
       "      <td>42</td>\n",
       "      <td>M</td>\n",
       "      <td>executive</td>\n",
       "      <td>98101</td>\n",
       "    </tr>\n",
       "    <tr>\n",
       "      <th>7</th>\n",
       "      <td>57</td>\n",
       "      <td>M</td>\n",
       "      <td>administrator</td>\n",
       "      <td>91344</td>\n",
       "    </tr>\n",
       "    <tr>\n",
       "      <th>8</th>\n",
       "      <td>36</td>\n",
       "      <td>M</td>\n",
       "      <td>administrator</td>\n",
       "      <td>05201</td>\n",
       "    </tr>\n",
       "    <tr>\n",
       "      <th>9</th>\n",
       "      <td>29</td>\n",
       "      <td>M</td>\n",
       "      <td>student</td>\n",
       "      <td>01002</td>\n",
       "    </tr>\n",
       "    <tr>\n",
       "      <th>10</th>\n",
       "      <td>53</td>\n",
       "      <td>M</td>\n",
       "      <td>lawyer</td>\n",
       "      <td>90703</td>\n",
       "    </tr>\n",
       "  </tbody>\n",
       "</table>\n",
       "</div>"
      ],
      "text/plain": [
       "         age gender     occupation zip_code\n",
       "user_id                                    \n",
       "1         24      M     technician    85711\n",
       "2         53      F          other    94043\n",
       "3         23      M         writer    32067\n",
       "4         24      M     technician    43537\n",
       "5         33      F          other    15213\n",
       "6         42      M      executive    98101\n",
       "7         57      M  administrator    91344\n",
       "8         36      M  administrator    05201\n",
       "9         29      M        student    01002\n",
       "10        53      M         lawyer    90703"
      ]
     },
     "execution_count": 6,
     "metadata": {},
     "output_type": "execute_result"
    }
   ],
   "source": [
    "print('First 10 entries')",
    "users.head(10)\n"
   ]
  },
  {
   "cell_type": "code",
   "execution_count": 7,
   "id": "570a2a34-0e6b-4de2-b8c4-8affab313eeb",
   "metadata": {},
   "outputs": [
    {
     "name": "stdout",
     "output_type": "stream",
     "text": [
      "Last 10 entries"
     ]
    },
    {
     "data": {
      "text/html": [
       "<div>\n",
       "<style scoped>\n",
       "    .dataframe tbody tr th:only-of-type {\n",
       "        vertical-align: middle;\n",
       "    }\n",
       "\n",
       "    .dataframe tbody tr th {\n",
       "        vertical-align: top;\n",
       "    }\n",
       "\n",
       "    .dataframe thead th {\n",
       "        text-align: right;\n",
       "    }\n",
       "</style>\n",
       "<table border=\"1\" class=\"dataframe\">\n",
       "  <thead>\n",
       "    <tr style=\"text-align: right;\">\n",
       "      <th></th>\n",
       "      <th>age</th>\n",
       "      <th>gender</th>\n",
       "      <th>occupation</th>\n",
       "      <th>zip_code</th>\n",
       "    </tr>\n",
       "    <tr>\n",
       "      <th>user_id</th>\n",
       "      <th></th>\n",
       "      <th></th>\n",
       "      <th></th>\n",
       "      <th></th>\n",
       "    </tr>\n",
       "  </thead>\n",
       "  <tbody>\n",
       "    <tr>\n",
       "      <th>934</th>\n",
       "      <td>61</td>\n",
       "      <td>M</td>\n",
       "      <td>engineer</td>\n",
       "      <td>22902</td>\n",
       "    </tr>\n",
       "    <tr>\n",
       "      <th>935</th>\n",
       "      <td>42</td>\n",
       "      <td>M</td>\n",
       "      <td>doctor</td>\n",
       "      <td>66221</td>\n",
       "    </tr>\n",
       "    <tr>\n",
       "      <th>936</th>\n",
       "      <td>24</td>\n",
       "      <td>M</td>\n",
       "      <td>other</td>\n",
       "      <td>32789</td>\n",
       "    </tr>\n",
       "    <tr>\n",
       "      <th>937</th>\n",
       "      <td>48</td>\n",
       "      <td>M</td>\n",
       "      <td>educator</td>\n",
       "      <td>98072</td>\n",
       "    </tr>\n",
       "    <tr>\n",
       "      <th>938</th>\n",
       "      <td>38</td>\n",
       "      <td>F</td>\n",
       "      <td>technician</td>\n",
       "      <td>55038</td>\n",
       "    </tr>\n",
       "    <tr>\n",
       "      <th>939</th>\n",
       "      <td>26</td>\n",
       "      <td>F</td>\n",
       "      <td>student</td>\n",
       "      <td>33319</td>\n",
       "    </tr>\n",
       "    <tr>\n",
       "      <th>940</th>\n",
       "      <td>32</td>\n",
       "      <td>M</td>\n",
       "      <td>administrator</td>\n",
       "      <td>02215</td>\n",
       "    </tr>\n",
       "    <tr>\n",
       "      <th>941</th>\n",
       "      <td>20</td>\n",
       "      <td>M</td>\n",
       "      <td>student</td>\n",
       "      <td>97229</td>\n",
       "    </tr>\n",
       "    <tr>\n",
       "      <th>942</th>\n",
       "      <td>48</td>\n",
       "      <td>F</td>\n",
       "      <td>librarian</td>\n",
       "      <td>78209</td>\n",
       "    </tr>\n",
       "    <tr>\n",
       "      <th>943</th>\n",
       "      <td>22</td>\n",
       "      <td>M</td>\n",
       "      <td>student</td>\n",
       "      <td>77841</td>\n",
       "    </tr>\n",
       "  </tbody>\n",
       "</table>\n",
       "</div>"
      ],
      "text/plain": [
       "         age gender     occupation zip_code\n",
       "user_id                                    \n",
       "934       61      M       engineer    22902\n",
       "935       42      M         doctor    66221\n",
       "936       24      M          other    32789\n",
       "937       48      M       educator    98072\n",
       "938       38      F     technician    55038\n",
       "939       26      F        student    33319\n",
       "940       32      M  administrator    02215\n",
       "941       20      M        student    97229\n",
       "942       48      F      librarian    78209\n",
       "943       22      M        student    77841"
      ]
     },
     "execution_count": 7,
     "metadata": {},
     "output_type": "execute_result"
    }
   ],
   "source": [
    "print('Last 10 entries')",
    "users.tail(10)"
   ]
  },
  {
   "cell_type": "markdown",
   "id": "e5f79d74-fb08-4afd-b731-4b6ead609a78",
   "metadata": {},
   "source": [
    "#### Number of observations in the dataset"
   ]
  },
  {
   "cell_type": "code",
   "execution_count": 8,
   "id": "ab0c8d84-26f3-4c0b-9eff-b8eb447fb9f4",
   "metadata": {},
   "outputs": [
    {
     "data": {
      "text/plain": [
       "age           943\n",
       "gender        943\n",
       "occupation    943\n",
       "zip_code      943\n",
       "dtype: int64"
      ]
     },
     "execution_count": 8,
     "metadata": {},
     "output_type": "execute_result"
    }
   ],
   "source": [
    "users.count()"
   ]
  },
  {
   "cell_type": "markdown",
   "id": "32a5ae09-e6ca-4189-9803-f299de9cdca4",
   "metadata": {},
   "source": [
    "#### number of columns in the dataset\n"
   ]
  },
  {
   "cell_type": "code",
   "execution_count": 10,
   "id": "3c26e7bb-7d94-43a1-9203-ad189aef4287",
   "metadata": {},
   "outputs": [
    {
     "name": "stdout",
     "output_type": "stream",
     "text": [
      "Number of columns : 4\n"
     ]
    }
   ],
   "source": [
    "print('Number of columns :', users.shape[1])\n",
    "# print(users.shape[1])\n"
   ]
  },
  {
   "cell_type": "markdown",
   "id": "856054ea-3828-4b38-851b-ebcc1af75e8b",
   "metadata": {},
   "source": [
    "#### Printing the name of all the columns.\n"
   ]
  },
  {
   "cell_type": "code",
   "execution_count": 11,
   "id": "f9fcf960-e39e-4b2a-8b76-fe373a40aee7",
   "metadata": {},
   "outputs": [
    {
     "name": "stdout",
     "output_type": "stream",
     "text": [
      "Name of all the columns: Index(['age', 'gender', 'occupation', 'zip_code'], dtype='object')\n"
     ]
    }
   ],
   "source": [
    "print('Name of all the columns:',(users.columns))\n"
   ]
  },
  {
   "cell_type": "markdown",
   "id": "fe79e012-6521-4697-b798-815486dd5623",
   "metadata": {},
   "source": [
    "#### dataset indexing\n"
   ]
  },
  {
   "cell_type": "code",
   "execution_count": 20,
   "id": "d76ae35c-e632-4939-862a-e954381da5ea",
   "metadata": {},
   "outputs": [],
   "source": [
    "# users = users.Index()\n"
   ]
  },
  {
   "cell_type": "markdown",
   "id": "a830a7dd-51e6-45c6-8e01-f720f9494cc0",
   "metadata": {},
   "source": [
    "#### checking the data type of each column\n"
   ]
  },
  {
   "cell_type": "code",
   "execution_count": 23,
   "id": "1213c966-b87e-4601-b8f4-f84341426029",
   "metadata": {},
   "outputs": [
    {
     "data": {
      "text/plain": [
       "age            int64\n",
       "gender        object\n",
       "occupation    object\n",
       "zip_code      object\n",
       "dtype: object"
      ]
     },
     "execution_count": 23,
     "metadata": {},
     "output_type": "execute_result"
    }
   ],
   "source": [
    "users.dtypes\n"
   ]
  },
  {
   "cell_type": "markdown",
   "id": "ddea8583-4f8d-4b02-8b2c-9361f3d0fe3d",
   "metadata": {},
   "source": [
    "#### Printing only the occupation column\n"
   ]
  },
  {
   "cell_type": "code",
   "execution_count": 115,
   "id": "978c9f0e-16c4-41cf-811d-6a55563d1eb6",
   "metadata": {},
   "outputs": [
    {
     "name": "stdout",
     "output_type": "stream",
     "text": [
      "0         technician\n",
      "1              other\n",
      "2             writer\n",
      "3         technician\n",
      "4              other\n",
      "           ...      \n",
      "938          student\n",
      "939    administrator\n",
      "940          student\n",
      "941        librarian\n",
      "942          student\n",
      "Name: occupation, Length: 943, dtype: object\n"
     ]
    }
   ],
   "source": [
    "print(users['occupation'])\n"
   ]
  },
  {
   "cell_type": "markdown",
   "id": "8afaa0f7-fbc1-4376-a027-e79c4f60cc96",
   "metadata": {},
   "source": [
    "#### counting different occupations in this dataset\n"
   ]
  },
  {
   "cell_type": "code",
   "execution_count": 4,
   "id": "f46c63fd",
   "metadata": {},
   "outputs": [
    {
     "data": {
      "text/plain": [
       "21"
      ]
     },
     "execution_count": 4,
     "metadata": {},
     "output_type": "execute_result"
    }
   ],
   "source": [
    "users['occupation'].nunique()\n"
   ]
  },
  {
   "cell_type": "code",
   "execution_count": null,
   "id": "c5718142-c0c2-46df-8928-c1b21b77cdce",
   "metadata": {},
   "outputs": [],
   "source": []
  },
  {
   "cell_type": "code",
   "execution_count": null,
   "id": "1be9fe8b-0ce6-4d12-82bc-a3382874a499",
   "metadata": {},
   "outputs": [],
   "source": []
  },
  {
   "cell_type": "code",
   "execution_count": 118,
   "id": "2dc8d5a2-e0ce-45c9-b82e-253a16cd9708",
   "metadata": {},
   "outputs": [
    {
     "data": {
      "text/plain": [
       "943"
      ]
     },
     "execution_count": 118,
     "metadata": {},
     "output_type": "execute_result"
    }
   ],
   "source": [
    "users['occupation'].count()"
   ]
  },
  {
   "cell_type": "markdown",
   "id": "e8beb9b7-dc3a-4d82-a695-b5414cca1940",
   "metadata": {},
   "source": [
    "#### What is the most frequent occupation"
   ]
  },
  {
   "cell_type": "code",
   "execution_count": 119,
   "id": "63b60c79-0b74-4160-84ad-cf1683810c25",
   "metadata": {},
   "outputs": [],
   "source": [
    "df = pd.DataFrame(users)\n"
   ]
  },
  {
   "cell_type": "code",
   "execution_count": 124,
   "id": "6f09bea0-538d-4e2c-8201-c446f922b5c6",
   "metadata": {},
   "outputs": [
    {
     "data": {
      "text/plain": [
       "student    196\n",
       "Name: occupation, dtype: int64"
      ]
     },
     "execution_count": 124,
     "metadata": {},
     "output_type": "execute_result"
    }
   ],
   "source": [
    "df['occupation'].value_counts(ascending=False).head(1)\n"
   ]
  },
  {
   "cell_type": "markdown",
   "id": "fa8715d6-f5e1-47e0-8d90-70b92ae57d30",
   "metadata": {},
   "source": [
    "#### DataFrame Info."
   ]
  },
  {
   "cell_type": "code",
   "execution_count": 125,
   "id": "f0c9f397-56e1-41b4-af61-aee1ca41bb41",
   "metadata": {},
   "outputs": [
    {
     "name": "stdout",
     "output_type": "stream",
     "text": [
      "<class 'pandas.core.frame.DataFrame'>\n",
      "RangeIndex: 943 entries, 0 to 942\n",
      "Data columns (total 5 columns):\n",
      " #   Column      Non-Null Count  Dtype \n",
      "---  ------      --------------  ----- \n",
      " 0   user_id     943 non-null    int64 \n",
      " 1   age         943 non-null    int64 \n",
      " 2   gender      943 non-null    object\n",
      " 3   occupation  943 non-null    object\n",
      " 4   zip_code    943 non-null    object\n",
      "dtypes: int64(2), object(3)\n",
      "memory usage: 37.0+ KB\n"
     ]
    }
   ],
   "source": [
    "users.info()"
   ]
  },
  {
   "cell_type": "code",
   "execution_count": 5,
   "id": "64f9419f-02bc-453e-8e5e-55e24ee74c23",
   "metadata": {},
   "outputs": [
    {
     "data": {
      "text/plain": [
       "student          196\n",
       "other            105\n",
       "educator          95\n",
       "administrator     79\n",
       "engineer          67\n",
       "programmer        66\n",
       "librarian         51\n",
       "writer            45\n",
       "executive         32\n",
       "scientist         31\n",
       "artist            28\n",
       "technician        27\n",
       "marketing         26\n",
       "entertainment     18\n",
       "healthcare        16\n",
       "retired           14\n",
       "lawyer            12\n",
       "salesman          12\n",
       "none               9\n",
       "doctor             7\n",
       "homemaker          7\n",
       "Name: occupation, dtype: int64"
      ]
     },
     "execution_count": 5,
     "metadata": {},
     "output_type": "execute_result"
    }
   ],
   "source": [
    "#Summarize only the occupation column has done already.\n",
    "users['occupation'].value_counts()\n"
   ]
  },
  {
   "cell_type": "markdown",
   "id": "452f1a5e-9cf5-4f7c-b11b-1338df8ade54",
   "metadata": {},
   "source": [
    "#### Calculating mean age of users"
   ]
  },
  {
   "cell_type": "code",
   "execution_count": 128,
   "id": "691d2412-38e5-4193-b080-bb81a6c57eb0",
   "metadata": {},
   "outputs": [
    {
     "data": {
      "text/plain": [
       "34.05196182396607"
      ]
     },
     "execution_count": 128,
     "metadata": {},
     "output_type": "execute_result"
    }
   ],
   "source": [
    "users['age'].mean()"
   ]
  },
  {
   "cell_type": "markdown",
   "id": "c977a9ba-629e-41b4-8663-0af2730be04a",
   "metadata": {},
   "source": [
    "#### What is the age with least occurrence"
   ]
  },
  {
   "cell_type": "code",
   "execution_count": 129,
   "id": "bcf45a0d-78d8-4b00-8135-b93a80919b87",
   "metadata": {},
   "outputs": [
    {
     "data": {
      "text/plain": [
       "7"
      ]
     },
     "execution_count": 129,
     "metadata": {},
     "output_type": "execute_result"
    }
   ],
   "source": [
    "users['age'].min()"
   ]
  },
  {
   "cell_type": "code",
   "execution_count": null,
   "id": "1a25a6c3-1f66-4737-9550-f247adc798be",
   "metadata": {},
   "outputs": [],
   "source": []
  }
 ],
 "metadata": {
  "kernelspec": {
   "display_name": "Python 3",
   "language": "python",
   "name": "python3"
  },
  "language_info": {
   "codemirror_mode": {
    "name": "ipython",
    "version": 3
   },
   "file_extension": ".py",
   "mimetype": "text/x-python",
   "name": "python",
   "nbconvert_exporter": "python",
   "pygments_lexer": "ipython3",
   "version": "3.8.8"
  }
 },
 "nbformat": 4,
 "nbformat_minor": 5
}
