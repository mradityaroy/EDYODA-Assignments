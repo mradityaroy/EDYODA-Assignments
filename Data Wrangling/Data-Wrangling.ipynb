{
 "cells": [
  {
   "cell_type": "markdown",
   "metadata": {},
   "source": [
    "#1. Create a null vector of size 10 but the fifth value which is 1."
   ]
  },
  {
   "cell_type": "code",
   "execution_count": 12,
   "metadata": {},
   "outputs": [
    {
     "data": {
      "text/plain": [
       "array([0, 0, 0, 0, 1, 0, 0, 0, 0, 0])"
      ]
     },
     "execution_count": 12,
     "metadata": {},
     "output_type": "execute_result"
    }
   ],
   "source": [
    "import numpy as np \n",
    "(np.arange(10)==4).astype(int)"
   ]
  },
  {
   "cell_type": "markdown",
   "metadata": {},
   "source": [
    "#2. Create a vector with values ranging from 10 to 49."
   ]
  },
  {
   "cell_type": "code",
   "execution_count": 13,
   "metadata": {},
   "outputs": [
    {
     "data": {
      "text/plain": [
       "array([10, 11, 12, 13, 14, 15, 16, 17, 18, 19, 20, 21, 22, 23, 24, 25, 26,\n",
       "       27, 28, 29, 30, 31, 32, 33, 34, 35, 36, 37, 38, 39, 40, 41, 42, 43,\n",
       "       44, 45, 46, 47, 48, 49])"
      ]
     },
     "execution_count": 13,
     "metadata": {},
     "output_type": "execute_result"
    }
   ],
   "source": [
    "np.arange(10,50)"
   ]
  },
  {
   "cell_type": "markdown",
   "metadata": {},
   "source": [
    "#3. Create a 3x3 matrix with values ranging from 0 to 8"
   ]
  },
  {
   "cell_type": "code",
   "execution_count": 18,
   "metadata": {},
   "outputs": [
    {
     "name": "stdout",
     "output_type": "stream",
     "text": [
      "[[0 1 2]\n",
      " [3 4 5]\n",
      " [6 7 8]]\n"
     ]
    }
   ],
   "source": [
    "x=np.arange(0,9).reshape(3,3)\n",
    "print(x)"
   ]
  },
  {
   "cell_type": "markdown",
   "metadata": {},
   "source": [
    "#4. Find indices of non-zero elements from [1,2,0,0,4,0]"
   ]
  },
  {
   "cell_type": "code",
   "execution_count": 26,
   "metadata": {},
   "outputs": [
    {
     "name": "stdout",
     "output_type": "stream",
     "text": [
      "indices of non-zero elements are: (array([0, 1, 4], dtype=int64),)\n"
     ]
    }
   ],
   "source": [
    "x=np.array([1,2,0,0,4,0])\n",
    "print(\"indices of non-zero elements are:\",np.nonzero(x))"
   ]
  },
  {
   "cell_type": "markdown",
   "metadata": {},
   "source": [
    "#5. Create a 10x10 array with random values and find the minimum and maximum values."
   ]
  },
  {
   "cell_type": "code",
   "execution_count": 77,
   "metadata": {},
   "outputs": [
    {
     "name": "stdout",
     "output_type": "stream",
     "text": [
      "Minimum vales: 0.0017622460817506846\n",
      "Maximum values: 0.9834629996330242\n",
      "[[0.44008267 0.61547397 0.18299672 0.64802661 0.2177452  0.57906615\n",
      "  0.80276288 0.70064298 0.5818409  0.41014284]\n",
      " [0.25117317 0.17145884 0.48987229 0.78005438 0.29402998 0.82135818\n",
      "  0.50369688 0.02389083 0.54648941 0.31478633]\n",
      " [0.55222043 0.42309481 0.21427638 0.6396628  0.93636771 0.5975111\n",
      "  0.14969288 0.40632628 0.50898899 0.01470423]\n",
      " [0.84114966 0.44772352 0.39778651 0.47259367 0.07822464 0.31026269\n",
      "  0.51926964 0.36734163 0.81942951 0.90201428]\n",
      " [0.84378802 0.56394633 0.65960802 0.86744749 0.4892273  0.91139153\n",
      "  0.09248642 0.56988145 0.46507358 0.86708875]\n",
      " [0.31835627 0.03572087 0.38632562 0.79388606 0.87984908 0.54066201\n",
      "  0.70736704 0.36235083 0.65222529 0.68888939]\n",
      " [0.47304041 0.11292765 0.58952359 0.81755675 0.24697563 0.28796746\n",
      "  0.7718215  0.80179455 0.88842742 0.74519835]\n",
      " [0.6845665  0.5039969  0.17778369 0.30775871 0.53066174 0.74794765\n",
      "  0.08138968 0.9418501  0.97251622 0.07001332]\n",
      " [0.85006242 0.62303846 0.01114907 0.59930359 0.89883626 0.67631353\n",
      "  0.27399611 0.01000496 0.27847305 0.9580054 ]\n",
      " [0.74240731 0.55749836 0.18062668 0.75720001 0.89319322 0.983463\n",
      "  0.7242921  0.22077303 0.14582223 0.00176225]]\n"
     ]
    }
   ],
   "source": [
    "import random\n",
    "random.seed(10)\n",
    "x=np.random.random(size=(10,10))\n",
    "print(\"Minimum vales:\",x.min())\n",
    "print(\"Maximum values:\",x.max())\n",
    "print(x)\n"
   ]
  },
  {
   "cell_type": "markdown",
   "metadata": {},
   "source": [
    "#6. Create a random vector of size 30 and find the mean value."
   ]
  },
  {
   "cell_type": "code",
   "execution_count": 82,
   "metadata": {},
   "outputs": [
    {
     "name": "stdout",
     "output_type": "stream",
     "text": [
      "mean: 0.5061633093970229\n"
     ]
    }
   ],
   "source": [
    "arr=np.random.random((5,6))\n",
    "Mean_value_of_the_matrix=np.mean(arr)\n",
    "print(\"mean:\",Mean_value_of_the_matrix)\n"
   ]
  },
  {
   "cell_type": "code",
   "execution_count": null,
   "metadata": {},
   "outputs": [],
   "source": []
  }
 ],
 "metadata": {
  "kernelspec": {
   "display_name": "Python 3",
   "language": "python",
   "name": "python3"
  },
  "language_info": {
   "codemirror_mode": {
    "name": "ipython",
    "version": 3
   },
   "file_extension": ".py",
   "mimetype": "text/x-python",
   "name": "python",
   "nbconvert_exporter": "python",
   "pygments_lexer": "ipython3",
   "version": "3.8.5"
  }
 },
 "nbformat": 4,
 "nbformat_minor": 4
}
